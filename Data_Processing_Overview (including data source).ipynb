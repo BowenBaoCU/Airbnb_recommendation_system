{
 "cells": [
  {
   "cell_type": "markdown",
   "metadata": {},
   "source": [
    "In this notebook, we get to learn more about our data and conduct data cleaning & processing based on our project objective.\n",
    "\n",
    "Our data source: \n",
    "* http://data.insideairbnb.com/united-states/ny/new-york-city/2018-10-03/visualisations/listings.csv\n",
    "* http://data.insideairbnb.com/united-states/ny/new-york-city/2018-10-03/visualisations/reviews.csv\n",
    "* http://web.mta.info/developers/data/nyct/subway/StationEntrances.csv\n",
    "* https://data.cityofnewyork.us/Transportation/Bus-Stop-Shelters/qafz-7myz\n",
    "* NRC-Emotion-Lexicon-v0.92-In105Languages-Nov2017Translations.csv\n",
    "\n",
    "We used listings.csv, reviews.csv uploaded on 03 October, 2018 on insideairbnb website as our main data sets.\n",
    "The other three csv files as our data source for added features. NRC-Emotion-Lexicon-v0.92-In105Languages-Nov2017Translations.csv contains 115 columns, 14182 rows. Each row includes a word in 105 kinds of languages and binary variables for 10 kinds of emotions.\n",
    "\n"
   ]
  },
  {
   "cell_type": "code",
   "execution_count": 12,
   "metadata": {},
   "outputs": [],
   "source": [
    "import pandas as pd\n",
    "import numpy as np"
   ]
  },
  {
   "cell_type": "code",
   "execution_count": 2,
   "metadata": {},
   "outputs": [
    {
     "name": "stderr",
     "output_type": "stream",
     "text": [
      "C:\\Users\\Baoyp\\Anaconda3\\envs\\py36\\lib\\site-packages\\IPython\\core\\interactiveshell.py:2785: DtypeWarning: Columns (43,87,88) have mixed types. Specify dtype option on import or set low_memory=False.\n",
      "  interactivity=interactivity, compiler=compiler, result=result)\n"
     ]
    }
   ],
   "source": [
    "listing = pd.read_csv('listings.csv')"
   ]
  },
  {
   "cell_type": "code",
   "execution_count": 5,
   "metadata": {
    "scrolled": true
   },
   "outputs": [
    {
     "name": "stdout",
     "output_type": "stream",
     "text": [
      "<class 'pandas.core.frame.DataFrame'>\n",
      "RangeIndex: 50041 entries, 0 to 50040\n",
      "Data columns (total 96 columns):\n",
      "id                                  50041 non-null int64\n",
      "listing_url                         50041 non-null object\n",
      "scrape_id                           50041 non-null int64\n",
      "last_scraped                        50041 non-null object\n",
      "name                                50018 non-null object\n",
      "summary                             48185 non-null object\n",
      "space                               34379 non-null object\n",
      "description                         49610 non-null object\n",
      "experiences_offered                 50041 non-null object\n",
      "neighborhood_overview               29820 non-null object\n",
      "notes                               19906 non-null object\n",
      "transit                             31091 non-null object\n",
      "access                              28928 non-null object\n",
      "interaction                         27811 non-null object\n",
      "house_rules                         29879 non-null object\n",
      "thumbnail_url                       0 non-null float64\n",
      "medium_url                          0 non-null float64\n",
      "picture_url                         50041 non-null object\n",
      "xl_picture_url                      0 non-null float64\n",
      "host_id                             50041 non-null int64\n",
      "host_url                            50041 non-null object\n",
      "host_name                           50032 non-null object\n",
      "host_since                          50032 non-null object\n",
      "host_location                       49884 non-null object\n",
      "host_about                          30501 non-null object\n",
      "host_response_time                  24089 non-null object\n",
      "host_response_rate                  24086 non-null object\n",
      "host_acceptance_rate                0 non-null float64\n",
      "host_is_superhost                   50032 non-null object\n",
      "host_thumbnail_url                  50032 non-null object\n",
      "host_picture_url                    50032 non-null object\n",
      "host_neighbourhood                  43008 non-null object\n",
      "host_listings_count                 50032 non-null float64\n",
      "host_total_listings_count           50032 non-null float64\n",
      "host_verifications                  50041 non-null object\n",
      "host_has_profile_pic                50032 non-null object\n",
      "host_identity_verified              50032 non-null object\n",
      "street                              50041 non-null object\n",
      "neighbourhood                       47668 non-null object\n",
      "neighbourhood_cleansed              50041 non-null object\n",
      "neighbourhood_group_cleansed        50041 non-null object\n",
      "city                                49979 non-null object\n",
      "state                               50030 non-null object\n",
      "zipcode                             49305 non-null object\n",
      "market                              49904 non-null object\n",
      "smart_location                      50041 non-null object\n",
      "country_code                        50041 non-null object\n",
      "country                             50041 non-null object\n",
      "latitude                            50041 non-null float64\n",
      "longitude                           50041 non-null float64\n",
      "is_location_exact                   50041 non-null object\n",
      "property_type                       50041 non-null object\n",
      "room_type                           50041 non-null object\n",
      "accommodates                        50041 non-null int64\n",
      "bathrooms                           49945 non-null float64\n",
      "bedrooms                            49985 non-null float64\n",
      "beds                                49977 non-null float64\n",
      "bed_type                            50041 non-null object\n",
      "amenities                           50041 non-null object\n",
      "square_feet                         470 non-null float64\n",
      "price                               50041 non-null object\n",
      "weekly_price                        7177 non-null object\n",
      "monthly_price                       6267 non-null object\n",
      "security_deposit                    30777 non-null object\n",
      "cleaning_fee                        37857 non-null object\n",
      "guests_included                     50041 non-null int64\n",
      "extra_people                        50041 non-null object\n",
      "minimum_nights                      50041 non-null int64\n",
      "maximum_nights                      50041 non-null int64\n",
      "calendar_updated                    50041 non-null object\n",
      "has_availability                    50041 non-null object\n",
      "availability_30                     50041 non-null int64\n",
      "availability_60                     50041 non-null int64\n",
      "availability_90                     50041 non-null int64\n",
      "availability_365                    50041 non-null int64\n",
      "calendar_last_scraped               50041 non-null object\n",
      "number_of_reviews                   50041 non-null int64\n",
      "first_review                        39536 non-null object\n",
      "last_review                         39536 non-null object\n",
      "review_scores_rating                38445 non-null float64\n",
      "review_scores_accuracy              38393 non-null float64\n",
      "review_scores_cleanliness           38414 non-null float64\n",
      "review_scores_checkin               38365 non-null float64\n",
      "review_scores_communication         38400 non-null float64\n",
      "review_scores_location              38359 non-null float64\n",
      "review_scores_value                 38360 non-null float64\n",
      "requires_license                    50041 non-null object\n",
      "license                             7 non-null object\n",
      "jurisdiction_names                  28 non-null object\n",
      "instant_bookable                    50041 non-null object\n",
      "is_business_travel_ready            50041 non-null object\n",
      "cancellation_policy                 50041 non-null object\n",
      "require_guest_profile_picture       50041 non-null object\n",
      "require_guest_phone_verification    50041 non-null object\n",
      "calculated_host_listings_count      50041 non-null int64\n",
      "reviews_per_month                   39536 non-null float64\n",
      "dtypes: float64(20), int64(13), object(63)\n",
      "memory usage: 36.7+ MB\n"
     ]
    }
   ],
   "source": [
    "listing.info()"
   ]
  },
  {
   "cell_type": "code",
   "execution_count": 3,
   "metadata": {
    "scrolled": true
   },
   "outputs": [
    {
     "data": {
      "text/plain": [
       "Index(['id', 'listing_url', 'scrape_id', 'last_scraped', 'name', 'summary',\n",
       "       'space', 'description', 'experiences_offered', 'neighborhood_overview',\n",
       "       'notes', 'transit', 'access', 'interaction', 'house_rules',\n",
       "       'thumbnail_url', 'medium_url', 'picture_url', 'xl_picture_url',\n",
       "       'host_id', 'host_url', 'host_name', 'host_since', 'host_location',\n",
       "       'host_about', 'host_response_time', 'host_response_rate',\n",
       "       'host_acceptance_rate', 'host_is_superhost', 'host_thumbnail_url',\n",
       "       'host_picture_url', 'host_neighbourhood', 'host_listings_count',\n",
       "       'host_total_listings_count', 'host_verifications',\n",
       "       'host_has_profile_pic', 'host_identity_verified', 'street',\n",
       "       'neighbourhood', 'neighbourhood_cleansed',\n",
       "       'neighbourhood_group_cleansed', 'city', 'state', 'zipcode', 'market',\n",
       "       'smart_location', 'country_code', 'country', 'latitude', 'longitude',\n",
       "       'is_location_exact', 'property_type', 'room_type', 'accommodates',\n",
       "       'bathrooms', 'bedrooms', 'beds', 'bed_type', 'amenities', 'square_feet',\n",
       "       'price', 'weekly_price', 'monthly_price', 'security_deposit',\n",
       "       'cleaning_fee', 'guests_included', 'extra_people', 'minimum_nights',\n",
       "       'maximum_nights', 'calendar_updated', 'has_availability',\n",
       "       'availability_30', 'availability_60', 'availability_90',\n",
       "       'availability_365', 'calendar_last_scraped', 'number_of_reviews',\n",
       "       'first_review', 'last_review', 'review_scores_rating',\n",
       "       'review_scores_accuracy', 'review_scores_cleanliness',\n",
       "       'review_scores_checkin', 'review_scores_communication',\n",
       "       'review_scores_location', 'review_scores_value', 'requires_license',\n",
       "       'license', 'jurisdiction_names', 'instant_bookable',\n",
       "       'is_business_travel_ready', 'cancellation_policy',\n",
       "       'require_guest_profile_picture', 'require_guest_phone_verification',\n",
       "       'calculated_host_listings_count', 'reviews_per_month'],\n",
       "      dtype='object')"
      ]
     },
     "execution_count": 3,
     "metadata": {},
     "output_type": "execute_result"
    }
   ],
   "source": [
    "listing.columns"
   ]
  },
  {
   "cell_type": "code",
   "execution_count": 8,
   "metadata": {
    "scrolled": true
   },
   "outputs": [],
   "source": [
    "listing = listing[(listing['latitude'].notnull()) & (listing['longitude'].notnull())]"
   ]
  },
  {
   "cell_type": "code",
   "execution_count": 9,
   "metadata": {},
   "outputs": [],
   "source": [
    "listing.rename(columns={\"id\": \"listing_id\"},inplace=True)"
   ]
  },
  {
   "cell_type": "markdown",
   "metadata": {},
   "source": [
    "Standardize the format of zipcode feature"
   ]
  },
  {
   "cell_type": "code",
   "execution_count": 10,
   "metadata": {},
   "outputs": [],
   "source": [
    "def fix_zip(input_zip):\n",
    "    try:\n",
    "        input_zip = int(float(input_zip))\n",
    "    except:\n",
    "        try:\n",
    "            input_zip = int(input_zip.split('-')[0])\n",
    "        except:\n",
    "            return np.NaN\n",
    "    if input_zip < 10000 or input_zip > 12000:\n",
    "        return np.NaN\n",
    "    return str(input_zip)"
   ]
  },
  {
   "cell_type": "code",
   "execution_count": 13,
   "metadata": {
    "scrolled": true
   },
   "outputs": [
    {
     "data": {
      "text/plain": [
       "array(['10026', '11218', '10018', '11206', '10027', '11238', '10029',\n",
       "       '10016', '11216', '10019', '10025', '10010', '10002', '11215',\n",
       "       '10014', '11211', '11205', '10011', '11217', '10009', '10034',\n",
       "       '10003', '10031', '11222', '11237', '11226', '10024', '11225',\n",
       "       '11101', '11221', '11434', '11249', '10023', '11230', '11231',\n",
       "       '10036', '10035', '11233', '10032', '11377', '11201', '10466',\n",
       "       '10001', '10128', '10040', '11234', '11367', '10039', '10028',\n",
       "       '11104', '10301', '10452', '10006', '11385', '10021', '10075',\n",
       "       '11379', '10030', '11105', '10012', '10044', '10022', '10013',\n",
       "       '11103', '10473', '10475', '10282', '10468', '11102', '10038',\n",
       "       '11213', '10033', '11427', '11693', '10004', '11375', '10470',\n",
       "       '10453', '10469', '11208', '10106', '11207', '10451', '11235',\n",
       "       '11209', '10314', '11204', '10305', '11232', '11418', '10017',\n",
       "       '11372', '11373', '11355', '11412', '11203', '11374', '11106',\n",
       "       '11220', '10304', '11210', '10303', '11229', '10463', '11435',\n",
       "       '10080', '10065', '10454', '10455', '11236', '10280', '10037',\n",
       "       '11691', '11692', '11223', '11411', '10307', '10107', '11212',\n",
       "       '11378', '11219', '10467', '11358', '11361', '10069', '11415',\n",
       "       '11356', '11214', '11432', '10005', '10464', '11370', '11239',\n",
       "       '10302', '11433', '11429', '11422', '11436', '11421', '10312',\n",
       "       '10460', '10471', '10462', '10459', '10456', '10007', '11224',\n",
       "       '11369', '11417', '11360', '11416', '11109', '11357', '10458',\n",
       "       '10162', '10306', '10472', '11413', '11365', '11414', '11694',\n",
       "       '11368', '11364', '11366', '10457', '10461', '10310', '11420',\n",
       "       '10308', '11419', '10474', '10465', '11228', '11001', '11428',\n",
       "       '11426', '11423', '11354', '10704', '10129', '10705', '11363',\n",
       "       '10281', '11362', '11461', '10550', '10270', '11954', '10174',\n",
       "       '11559', '10309', '11003', '10803'], dtype=object)"
      ]
     },
     "execution_count": 13,
     "metadata": {},
     "output_type": "execute_result"
    }
   ],
   "source": [
    "listing['zipcode']=listing['zipcode'].apply(fix_zip)\n",
    "listing = listing[listing['zipcode'].notnull()]\n",
    "listing['zipcode'].unique()"
   ]
  },
  {
   "cell_type": "markdown",
   "metadata": {},
   "source": [
    "Merge text mining results into mega dataset."
   ]
  },
  {
   "cell_type": "code",
   "execution_count": 14,
   "metadata": {
    "scrolled": true
   },
   "outputs": [],
   "source": [
    "review = pd.read_csv('list_review_rating.csv')"
   ]
  },
  {
   "cell_type": "code",
   "execution_count": 15,
   "metadata": {
    "scrolled": true
   },
   "outputs": [
    {
     "name": "stdout",
     "output_type": "stream",
     "text": [
      "<class 'pandas.core.frame.DataFrame'>\n",
      "RangeIndex: 23281 entries, 0 to 23280\n",
      "Data columns (total 12 columns):\n",
      "listing_id             23281 non-null int64\n",
      "Fear                   23281 non-null float64\n",
      "Trust                  23281 non-null float64\n",
      "Negative               23281 non-null float64\n",
      "Positive               23281 non-null float64\n",
      "Joy                    23281 non-null float64\n",
      "Disgust                23281 non-null float64\n",
      "Anticipation           23281 non-null float64\n",
      "Anger                  23281 non-null float64\n",
      "Sadness                23281 non-null float64\n",
      "Surprise               23281 non-null float64\n",
      "customer_experience    23281 non-null float64\n",
      "dtypes: float64(11), int64(1)\n",
      "memory usage: 2.1 MB\n"
     ]
    }
   ],
   "source": [
    "review.info()"
   ]
  },
  {
   "cell_type": "code",
   "execution_count": 16,
   "metadata": {},
   "outputs": [],
   "source": [
    "final = pd.merge(listing, review, on = 'listing_id', how='inner')"
   ]
  },
  {
   "cell_type": "markdown",
   "metadata": {},
   "source": [
    "Remove unnecessary features from the mega dataset."
   ]
  },
  {
   "cell_type": "code",
   "execution_count": 17,
   "metadata": {},
   "outputs": [],
   "source": [
    "final.drop(['scrape_id', 'last_scraped','experiences_offered','notes', 'transit', 'access', 'interaction',\n",
    "       'house_rules', 'thumbnail_url', 'medium_url','xl_picture_url', 'host_id', 'host_url', 'host_name', 'host_since',\n",
    "       'host_location', 'host_about', 'host_thumbnail_url', 'host_picture_url', 'host_neighbourhood',\n",
    "       'host_listings_count', 'host_total_listings_count',\n",
    "       'host_verifications', 'host_has_profile_pic', 'host_identity_verified',\n",
    "       'street', 'market','is_location_exact','smart_location', 'country_code', 'country', 'is_location_exact', 'property_type',\n",
    "           'accommodates','bed_type',  'security_deposit',\n",
    "       'cleaning_fee', 'guests_included', 'extra_people', 'minimum_nights',\n",
    "       'maximum_nights', 'calendar_updated', 'has_availability',\n",
    "       'availability_30', 'availability_60', 'availability_90',\n",
    "       'availability_365', 'calendar_last_scraped', 'number_of_reviews',\n",
    "       'first_review', 'last_review','requires_license',\n",
    "       'license', 'jurisdiction_names', 'instant_bookable',\n",
    "       'is_business_travel_ready', 'cancellation_policy',\n",
    "       'require_guest_profile_picture', 'require_guest_phone_verification',\n",
    "       'calculated_host_listings_count', 'reviews_per_month'],axis=1,inplace=True)"
   ]
  },
  {
   "cell_type": "code",
   "execution_count": 18,
   "metadata": {
    "scrolled": true
   },
   "outputs": [
    {
     "data": {
      "text/html": [
       "<div>\n",
       "<style scoped>\n",
       "    .dataframe tbody tr th:only-of-type {\n",
       "        vertical-align: middle;\n",
       "    }\n",
       "\n",
       "    .dataframe tbody tr th {\n",
       "        vertical-align: top;\n",
       "    }\n",
       "\n",
       "    .dataframe thead th {\n",
       "        text-align: right;\n",
       "    }\n",
       "</style>\n",
       "<table border=\"1\" class=\"dataframe\">\n",
       "  <thead>\n",
       "    <tr style=\"text-align: right;\">\n",
       "      <th></th>\n",
       "      <th>listing_id</th>\n",
       "      <th>listing_url</th>\n",
       "      <th>name</th>\n",
       "      <th>summary</th>\n",
       "      <th>space</th>\n",
       "      <th>description</th>\n",
       "      <th>neighborhood_overview</th>\n",
       "      <th>picture_url</th>\n",
       "      <th>host_response_time</th>\n",
       "      <th>host_response_rate</th>\n",
       "      <th>...</th>\n",
       "      <th>Trust</th>\n",
       "      <th>Negative</th>\n",
       "      <th>Positive</th>\n",
       "      <th>Joy</th>\n",
       "      <th>Disgust</th>\n",
       "      <th>Anticipation</th>\n",
       "      <th>Anger</th>\n",
       "      <th>Sadness</th>\n",
       "      <th>Surprise</th>\n",
       "      <th>customer_experience</th>\n",
       "    </tr>\n",
       "  </thead>\n",
       "  <tbody>\n",
       "    <tr>\n",
       "      <th>0</th>\n",
       "      <td>2515</td>\n",
       "      <td>https://www.airbnb.com/rooms/2515</td>\n",
       "      <td>Stay at Chez Chic budget room #1</td>\n",
       "      <td>Step into our artistic spacious apartment and ...</td>\n",
       "      <td>-PLEASE BOOK DIRECTLY. NO NEED TO SEND A REQUE...</td>\n",
       "      <td>Step into our artistic spacious apartment and ...</td>\n",
       "      <td>NaN</td>\n",
       "      <td>https://a0.muscache.com/im/pictures/d0489e42-4...</td>\n",
       "      <td>NaN</td>\n",
       "      <td>NaN</td>\n",
       "      <td>...</td>\n",
       "      <td>0.015873</td>\n",
       "      <td>0.015873</td>\n",
       "      <td>0.039683</td>\n",
       "      <td>0.015873</td>\n",
       "      <td>0.000000</td>\n",
       "      <td>0.007937</td>\n",
       "      <td>0.007937</td>\n",
       "      <td>0.007937</td>\n",
       "      <td>0.000000</td>\n",
       "      <td>0.357143</td>\n",
       "    </tr>\n",
       "    <tr>\n",
       "      <th>1</th>\n",
       "      <td>2539</td>\n",
       "      <td>https://www.airbnb.com/rooms/2539</td>\n",
       "      <td>Clean &amp; quiet apt home by the park</td>\n",
       "      <td>Renovated apt home in elevator building.</td>\n",
       "      <td>Spacious, renovated, and clean apt home, one b...</td>\n",
       "      <td>Renovated apt home in elevator building. Spaci...</td>\n",
       "      <td>Close to Prospect Park and Historic Ditmas Park</td>\n",
       "      <td>https://a0.muscache.com/im/pictures/3949d073-a...</td>\n",
       "      <td>NaN</td>\n",
       "      <td>NaN</td>\n",
       "      <td>...</td>\n",
       "      <td>0.000000</td>\n",
       "      <td>0.000000</td>\n",
       "      <td>0.000000</td>\n",
       "      <td>0.000000</td>\n",
       "      <td>0.000000</td>\n",
       "      <td>0.000000</td>\n",
       "      <td>0.000000</td>\n",
       "      <td>0.000000</td>\n",
       "      <td>0.000000</td>\n",
       "      <td>0.000000</td>\n",
       "    </tr>\n",
       "    <tr>\n",
       "      <th>2</th>\n",
       "      <td>2595</td>\n",
       "      <td>https://www.airbnb.com/rooms/2595</td>\n",
       "      <td>Skylit Midtown Castle</td>\n",
       "      <td>Find your romantic getaway to this beautiful, ...</td>\n",
       "      <td>- Spacious (500+ft²), immaculate and nicely fu...</td>\n",
       "      <td>Find your romantic getaway to this beautiful, ...</td>\n",
       "      <td>Centrally located in the heart of Manhattan ju...</td>\n",
       "      <td>https://a0.muscache.com/im/pictures/f028bdf9-e...</td>\n",
       "      <td>within a day</td>\n",
       "      <td>80%</td>\n",
       "      <td>...</td>\n",
       "      <td>0.000000</td>\n",
       "      <td>0.000000</td>\n",
       "      <td>0.083333</td>\n",
       "      <td>0.027778</td>\n",
       "      <td>0.000000</td>\n",
       "      <td>0.027778</td>\n",
       "      <td>0.000000</td>\n",
       "      <td>0.027778</td>\n",
       "      <td>0.027778</td>\n",
       "      <td>0.972222</td>\n",
       "    </tr>\n",
       "    <tr>\n",
       "      <th>3</th>\n",
       "      <td>3330</td>\n",
       "      <td>https://www.airbnb.com/rooms/3330</td>\n",
       "      <td>++ Brooklyn Penthouse Guestroom ++</td>\n",
       "      <td>This is a spacious, clean, furnished master be...</td>\n",
       "      <td>Room Features: - clean, hardwood floors - 2 la...</td>\n",
       "      <td>This is a spacious, clean, furnished master be...</td>\n",
       "      <td>Location is GREAT!! Right off the L train in t...</td>\n",
       "      <td>https://a0.muscache.com/im/pictures/41842659/5...</td>\n",
       "      <td>NaN</td>\n",
       "      <td>NaN</td>\n",
       "      <td>...</td>\n",
       "      <td>0.039823</td>\n",
       "      <td>0.000000</td>\n",
       "      <td>0.061947</td>\n",
       "      <td>0.030973</td>\n",
       "      <td>0.004425</td>\n",
       "      <td>0.048673</td>\n",
       "      <td>0.008850</td>\n",
       "      <td>0.004425</td>\n",
       "      <td>0.008850</td>\n",
       "      <td>1.150442</td>\n",
       "    </tr>\n",
       "    <tr>\n",
       "      <th>4</th>\n",
       "      <td>3831</td>\n",
       "      <td>https://www.airbnb.com/rooms/3831</td>\n",
       "      <td>Cozy Entire Floor of Brownstone</td>\n",
       "      <td>Urban retreat: enjoy 500 s.f. floor in 1899 br...</td>\n",
       "      <td>Greetings!      We own a double-duplex brownst...</td>\n",
       "      <td>Urban retreat: enjoy 500 s.f. floor in 1899 br...</td>\n",
       "      <td>Just the right mix of urban center and local n...</td>\n",
       "      <td>https://a0.muscache.com/im/pictures/e49999c2-9...</td>\n",
       "      <td>within an hour</td>\n",
       "      <td>100%</td>\n",
       "      <td>...</td>\n",
       "      <td>0.028926</td>\n",
       "      <td>0.012397</td>\n",
       "      <td>0.033058</td>\n",
       "      <td>0.024793</td>\n",
       "      <td>0.002066</td>\n",
       "      <td>0.024793</td>\n",
       "      <td>0.004132</td>\n",
       "      <td>0.014463</td>\n",
       "      <td>0.012397</td>\n",
       "      <td>0.650826</td>\n",
       "    </tr>\n",
       "  </tbody>\n",
       "</table>\n",
       "<p>5 rows × 47 columns</p>\n",
       "</div>"
      ],
      "text/plain": [
       "   listing_id                        listing_url  \\\n",
       "0        2515  https://www.airbnb.com/rooms/2515   \n",
       "1        2539  https://www.airbnb.com/rooms/2539   \n",
       "2        2595  https://www.airbnb.com/rooms/2595   \n",
       "3        3330  https://www.airbnb.com/rooms/3330   \n",
       "4        3831  https://www.airbnb.com/rooms/3831   \n",
       "\n",
       "                                 name  \\\n",
       "0    Stay at Chez Chic budget room #1   \n",
       "1  Clean & quiet apt home by the park   \n",
       "2               Skylit Midtown Castle   \n",
       "3  ++ Brooklyn Penthouse Guestroom ++   \n",
       "4     Cozy Entire Floor of Brownstone   \n",
       "\n",
       "                                             summary  \\\n",
       "0  Step into our artistic spacious apartment and ...   \n",
       "1           Renovated apt home in elevator building.   \n",
       "2  Find your romantic getaway to this beautiful, ...   \n",
       "3  This is a spacious, clean, furnished master be...   \n",
       "4  Urban retreat: enjoy 500 s.f. floor in 1899 br...   \n",
       "\n",
       "                                               space  \\\n",
       "0  -PLEASE BOOK DIRECTLY. NO NEED TO SEND A REQUE...   \n",
       "1  Spacious, renovated, and clean apt home, one b...   \n",
       "2  - Spacious (500+ft²), immaculate and nicely fu...   \n",
       "3  Room Features: - clean, hardwood floors - 2 la...   \n",
       "4  Greetings!      We own a double-duplex brownst...   \n",
       "\n",
       "                                         description  \\\n",
       "0  Step into our artistic spacious apartment and ...   \n",
       "1  Renovated apt home in elevator building. Spaci...   \n",
       "2  Find your romantic getaway to this beautiful, ...   \n",
       "3  This is a spacious, clean, furnished master be...   \n",
       "4  Urban retreat: enjoy 500 s.f. floor in 1899 br...   \n",
       "\n",
       "                               neighborhood_overview  \\\n",
       "0                                                NaN   \n",
       "1    Close to Prospect Park and Historic Ditmas Park   \n",
       "2  Centrally located in the heart of Manhattan ju...   \n",
       "3  Location is GREAT!! Right off the L train in t...   \n",
       "4  Just the right mix of urban center and local n...   \n",
       "\n",
       "                                         picture_url host_response_time  \\\n",
       "0  https://a0.muscache.com/im/pictures/d0489e42-4...                NaN   \n",
       "1  https://a0.muscache.com/im/pictures/3949d073-a...                NaN   \n",
       "2  https://a0.muscache.com/im/pictures/f028bdf9-e...       within a day   \n",
       "3  https://a0.muscache.com/im/pictures/41842659/5...                NaN   \n",
       "4  https://a0.muscache.com/im/pictures/e49999c2-9...     within an hour   \n",
       "\n",
       "  host_response_rate         ...              Trust  Negative  Positive  \\\n",
       "0                NaN         ...           0.015873  0.015873  0.039683   \n",
       "1                NaN         ...           0.000000  0.000000  0.000000   \n",
       "2                80%         ...           0.000000  0.000000  0.083333   \n",
       "3                NaN         ...           0.039823  0.000000  0.061947   \n",
       "4               100%         ...           0.028926  0.012397  0.033058   \n",
       "\n",
       "        Joy   Disgust Anticipation     Anger   Sadness  Surprise  \\\n",
       "0  0.015873  0.000000     0.007937  0.007937  0.007937  0.000000   \n",
       "1  0.000000  0.000000     0.000000  0.000000  0.000000  0.000000   \n",
       "2  0.027778  0.000000     0.027778  0.000000  0.027778  0.027778   \n",
       "3  0.030973  0.004425     0.048673  0.008850  0.004425  0.008850   \n",
       "4  0.024793  0.002066     0.024793  0.004132  0.014463  0.012397   \n",
       "\n",
       "   customer_experience  \n",
       "0             0.357143  \n",
       "1             0.000000  \n",
       "2             0.972222  \n",
       "3             1.150442  \n",
       "4             0.650826  \n",
       "\n",
       "[5 rows x 47 columns]"
      ]
     },
     "execution_count": 18,
     "metadata": {},
     "output_type": "execute_result"
    }
   ],
   "source": [
    "final.head()"
   ]
  },
  {
   "cell_type": "markdown",
   "metadata": {},
   "source": [
    "## Merge transportation related features into mega dataset."
   ]
  },
  {
   "cell_type": "code",
   "execution_count": 19,
   "metadata": {
    "scrolled": true
   },
   "outputs": [],
   "source": [
    "traffic = pd.read_csv('listing_new.csv')\n",
    "traffic = traffic.drop('Unnamed: 0',axis=1)"
   ]
  },
  {
   "cell_type": "code",
   "execution_count": 20,
   "metadata": {},
   "outputs": [],
   "source": [
    "traffic.rename(columns={\"id\": \"listing_id\"},inplace=True)"
   ]
  },
  {
   "cell_type": "code",
   "execution_count": 21,
   "metadata": {},
   "outputs": [
    {
     "data": {
      "text/html": [
       "<div>\n",
       "<style scoped>\n",
       "    .dataframe tbody tr th:only-of-type {\n",
       "        vertical-align: middle;\n",
       "    }\n",
       "\n",
       "    .dataframe tbody tr th {\n",
       "        vertical-align: top;\n",
       "    }\n",
       "\n",
       "    .dataframe thead th {\n",
       "        text-align: right;\n",
       "    }\n",
       "</style>\n",
       "<table border=\"1\" class=\"dataframe\">\n",
       "  <thead>\n",
       "    <tr style=\"text-align: right;\">\n",
       "      <th></th>\n",
       "      <th>listing_id</th>\n",
       "      <th>name</th>\n",
       "      <th>host_id</th>\n",
       "      <th>host_name</th>\n",
       "      <th>neighbourhood_group</th>\n",
       "      <th>neighbourhood</th>\n",
       "      <th>latitude</th>\n",
       "      <th>longitude</th>\n",
       "      <th>room_type</th>\n",
       "      <th>price</th>\n",
       "      <th>minimum_nights</th>\n",
       "      <th>number_of_reviews</th>\n",
       "      <th>last_review</th>\n",
       "      <th>reviews_per_month</th>\n",
       "      <th>calculated_host_listings_count</th>\n",
       "      <th>availability_365</th>\n",
       "      <th>dis_to_closest_subway</th>\n",
       "      <th>closest_subway_station</th>\n",
       "      <th>dis_to_closest_bus</th>\n",
       "      <th>closest_bus_station</th>\n",
       "    </tr>\n",
       "  </thead>\n",
       "  <tbody>\n",
       "    <tr>\n",
       "      <th>0</th>\n",
       "      <td>2515</td>\n",
       "      <td>Stay at Chez Chic budget room #1</td>\n",
       "      <td>2758</td>\n",
       "      <td>Steph</td>\n",
       "      <td>Manhattan</td>\n",
       "      <td>Harlem</td>\n",
       "      <td>40.799205</td>\n",
       "      <td>-73.953676</td>\n",
       "      <td>Private room</td>\n",
       "      <td>59</td>\n",
       "      <td>2</td>\n",
       "      <td>173</td>\n",
       "      <td>2018-09-18</td>\n",
       "      <td>1.42</td>\n",
       "      <td>3</td>\n",
       "      <td>310</td>\n",
       "      <td>0.102983</td>\n",
       "      <td>110th St-Central Park North</td>\n",
       "      <td>0.073829</td>\n",
       "      <td>('MN0836', 'CENTRAL PARK NORTH')</td>\n",
       "    </tr>\n",
       "    <tr>\n",
       "      <th>1</th>\n",
       "      <td>2539</td>\n",
       "      <td>Clean &amp; quiet apt home by the park</td>\n",
       "      <td>2787</td>\n",
       "      <td>John</td>\n",
       "      <td>Brooklyn</td>\n",
       "      <td>Kensington</td>\n",
       "      <td>40.647486</td>\n",
       "      <td>-73.972370</td>\n",
       "      <td>Private room</td>\n",
       "      <td>149</td>\n",
       "      <td>1</td>\n",
       "      <td>8</td>\n",
       "      <td>2018-07-17</td>\n",
       "      <td>0.23</td>\n",
       "      <td>8</td>\n",
       "      <td>360</td>\n",
       "      <td>0.306068</td>\n",
       "      <td>Fort Hamilton Parkway</td>\n",
       "      <td>0.104210</td>\n",
       "      <td>('BR02424', 'CONEY ISLAND AVENUE')</td>\n",
       "    </tr>\n",
       "    <tr>\n",
       "      <th>2</th>\n",
       "      <td>2595</td>\n",
       "      <td>Skylit Midtown Castle</td>\n",
       "      <td>2845</td>\n",
       "      <td>Jennifer</td>\n",
       "      <td>Manhattan</td>\n",
       "      <td>Midtown</td>\n",
       "      <td>40.753621</td>\n",
       "      <td>-73.983774</td>\n",
       "      <td>Entire home/apt</td>\n",
       "      <td>225</td>\n",
       "      <td>1</td>\n",
       "      <td>36</td>\n",
       "      <td>2018-10-01</td>\n",
       "      <td>0.33</td>\n",
       "      <td>2</td>\n",
       "      <td>345</td>\n",
       "      <td>0.101302</td>\n",
       "      <td>5th Av</td>\n",
       "      <td>0.139760</td>\n",
       "      <td>('MN01685', '5 AVENUE')</td>\n",
       "    </tr>\n",
       "    <tr>\n",
       "      <th>3</th>\n",
       "      <td>3330</td>\n",
       "      <td>++ Brooklyn Penthouse Guestroom ++</td>\n",
       "      <td>4177</td>\n",
       "      <td>Jbee</td>\n",
       "      <td>Brooklyn</td>\n",
       "      <td>Williamsburg</td>\n",
       "      <td>40.708558</td>\n",
       "      <td>-73.942362</td>\n",
       "      <td>Private room</td>\n",
       "      <td>70</td>\n",
       "      <td>5</td>\n",
       "      <td>34</td>\n",
       "      <td>2018-09-16</td>\n",
       "      <td>0.32</td>\n",
       "      <td>3</td>\n",
       "      <td>271</td>\n",
       "      <td>0.151482</td>\n",
       "      <td>Montrose Av</td>\n",
       "      <td>0.095851</td>\n",
       "      <td>('BR02884', 'MONTROSE AVENUE')</td>\n",
       "    </tr>\n",
       "    <tr>\n",
       "      <th>4</th>\n",
       "      <td>3647</td>\n",
       "      <td>THE VILLAGE OF HARLEM....NEW YORK !</td>\n",
       "      <td>4632</td>\n",
       "      <td>Elisabeth</td>\n",
       "      <td>Manhattan</td>\n",
       "      <td>Harlem</td>\n",
       "      <td>40.809018</td>\n",
       "      <td>-73.941902</td>\n",
       "      <td>Private room</td>\n",
       "      <td>150</td>\n",
       "      <td>3</td>\n",
       "      <td>0</td>\n",
       "      <td>NaN</td>\n",
       "      <td>NaN</td>\n",
       "      <td>1</td>\n",
       "      <td>365</td>\n",
       "      <td>0.219138</td>\n",
       "      <td>125th St</td>\n",
       "      <td>0.128132</td>\n",
       "      <td>('MN01330', 'LENOX AVENUE')</td>\n",
       "    </tr>\n",
       "  </tbody>\n",
       "</table>\n",
       "</div>"
      ],
      "text/plain": [
       "   listing_id                                 name  host_id  host_name  \\\n",
       "0        2515     Stay at Chez Chic budget room #1     2758      Steph   \n",
       "1        2539   Clean & quiet apt home by the park     2787       John   \n",
       "2        2595                Skylit Midtown Castle     2845   Jennifer   \n",
       "3        3330   ++ Brooklyn Penthouse Guestroom ++     4177       Jbee   \n",
       "4        3647  THE VILLAGE OF HARLEM....NEW YORK !     4632  Elisabeth   \n",
       "\n",
       "  neighbourhood_group neighbourhood   latitude  longitude        room_type  \\\n",
       "0           Manhattan        Harlem  40.799205 -73.953676     Private room   \n",
       "1            Brooklyn    Kensington  40.647486 -73.972370     Private room   \n",
       "2           Manhattan       Midtown  40.753621 -73.983774  Entire home/apt   \n",
       "3            Brooklyn  Williamsburg  40.708558 -73.942362     Private room   \n",
       "4           Manhattan        Harlem  40.809018 -73.941902     Private room   \n",
       "\n",
       "   price  minimum_nights  number_of_reviews last_review  reviews_per_month  \\\n",
       "0     59               2                173  2018-09-18               1.42   \n",
       "1    149               1                  8  2018-07-17               0.23   \n",
       "2    225               1                 36  2018-10-01               0.33   \n",
       "3     70               5                 34  2018-09-16               0.32   \n",
       "4    150               3                  0         NaN                NaN   \n",
       "\n",
       "   calculated_host_listings_count  availability_365  dis_to_closest_subway  \\\n",
       "0                               3               310               0.102983   \n",
       "1                               8               360               0.306068   \n",
       "2                               2               345               0.101302   \n",
       "3                               3               271               0.151482   \n",
       "4                               1               365               0.219138   \n",
       "\n",
       "        closest_subway_station  dis_to_closest_bus  \\\n",
       "0  110th St-Central Park North            0.073829   \n",
       "1        Fort Hamilton Parkway            0.104210   \n",
       "2                       5th Av            0.139760   \n",
       "3                  Montrose Av            0.095851   \n",
       "4                     125th St            0.128132   \n",
       "\n",
       "                  closest_bus_station  \n",
       "0    ('MN0836', 'CENTRAL PARK NORTH')  \n",
       "1  ('BR02424', 'CONEY ISLAND AVENUE')  \n",
       "2             ('MN01685', '5 AVENUE')  \n",
       "3      ('BR02884', 'MONTROSE AVENUE')  \n",
       "4         ('MN01330', 'LENOX AVENUE')  "
      ]
     },
     "execution_count": 21,
     "metadata": {},
     "output_type": "execute_result"
    }
   ],
   "source": [
    "traffic.head()"
   ]
  },
  {
   "cell_type": "code",
   "execution_count": 22,
   "metadata": {},
   "outputs": [],
   "source": [
    "df = pd.merge(final, traffic, on = 'listing_id', how='inner')"
   ]
  },
  {
   "cell_type": "code",
   "execution_count": 23,
   "metadata": {},
   "outputs": [
    {
     "data": {
      "text/html": [
       "<div>\n",
       "<style scoped>\n",
       "    .dataframe tbody tr th:only-of-type {\n",
       "        vertical-align: middle;\n",
       "    }\n",
       "\n",
       "    .dataframe tbody tr th {\n",
       "        vertical-align: top;\n",
       "    }\n",
       "\n",
       "    .dataframe thead th {\n",
       "        text-align: right;\n",
       "    }\n",
       "</style>\n",
       "<table border=\"1\" class=\"dataframe\">\n",
       "  <thead>\n",
       "    <tr style=\"text-align: right;\">\n",
       "      <th></th>\n",
       "      <th>listing_id</th>\n",
       "      <th>listing_url</th>\n",
       "      <th>name_x</th>\n",
       "      <th>summary</th>\n",
       "      <th>space</th>\n",
       "      <th>description</th>\n",
       "      <th>neighborhood_overview</th>\n",
       "      <th>picture_url</th>\n",
       "      <th>host_response_time</th>\n",
       "      <th>host_response_rate</th>\n",
       "      <th>...</th>\n",
       "      <th>minimum_nights</th>\n",
       "      <th>number_of_reviews</th>\n",
       "      <th>last_review</th>\n",
       "      <th>reviews_per_month</th>\n",
       "      <th>calculated_host_listings_count</th>\n",
       "      <th>availability_365</th>\n",
       "      <th>dis_to_closest_subway</th>\n",
       "      <th>closest_subway_station</th>\n",
       "      <th>dis_to_closest_bus</th>\n",
       "      <th>closest_bus_station</th>\n",
       "    </tr>\n",
       "  </thead>\n",
       "  <tbody>\n",
       "    <tr>\n",
       "      <th>0</th>\n",
       "      <td>2515</td>\n",
       "      <td>https://www.airbnb.com/rooms/2515</td>\n",
       "      <td>Stay at Chez Chic budget room #1</td>\n",
       "      <td>Step into our artistic spacious apartment and ...</td>\n",
       "      <td>-PLEASE BOOK DIRECTLY. NO NEED TO SEND A REQUE...</td>\n",
       "      <td>Step into our artistic spacious apartment and ...</td>\n",
       "      <td>NaN</td>\n",
       "      <td>https://a0.muscache.com/im/pictures/d0489e42-4...</td>\n",
       "      <td>NaN</td>\n",
       "      <td>NaN</td>\n",
       "      <td>...</td>\n",
       "      <td>2</td>\n",
       "      <td>173</td>\n",
       "      <td>2018-09-18</td>\n",
       "      <td>1.42</td>\n",
       "      <td>3</td>\n",
       "      <td>310</td>\n",
       "      <td>0.102983</td>\n",
       "      <td>110th St-Central Park North</td>\n",
       "      <td>0.073829</td>\n",
       "      <td>('MN0836', 'CENTRAL PARK NORTH')</td>\n",
       "    </tr>\n",
       "    <tr>\n",
       "      <th>1</th>\n",
       "      <td>2539</td>\n",
       "      <td>https://www.airbnb.com/rooms/2539</td>\n",
       "      <td>Clean &amp; quiet apt home by the park</td>\n",
       "      <td>Renovated apt home in elevator building.</td>\n",
       "      <td>Spacious, renovated, and clean apt home, one b...</td>\n",
       "      <td>Renovated apt home in elevator building. Spaci...</td>\n",
       "      <td>Close to Prospect Park and Historic Ditmas Park</td>\n",
       "      <td>https://a0.muscache.com/im/pictures/3949d073-a...</td>\n",
       "      <td>NaN</td>\n",
       "      <td>NaN</td>\n",
       "      <td>...</td>\n",
       "      <td>1</td>\n",
       "      <td>8</td>\n",
       "      <td>2018-07-17</td>\n",
       "      <td>0.23</td>\n",
       "      <td>8</td>\n",
       "      <td>360</td>\n",
       "      <td>0.306068</td>\n",
       "      <td>Fort Hamilton Parkway</td>\n",
       "      <td>0.104210</td>\n",
       "      <td>('BR02424', 'CONEY ISLAND AVENUE')</td>\n",
       "    </tr>\n",
       "    <tr>\n",
       "      <th>2</th>\n",
       "      <td>2595</td>\n",
       "      <td>https://www.airbnb.com/rooms/2595</td>\n",
       "      <td>Skylit Midtown Castle</td>\n",
       "      <td>Find your romantic getaway to this beautiful, ...</td>\n",
       "      <td>- Spacious (500+ft²), immaculate and nicely fu...</td>\n",
       "      <td>Find your romantic getaway to this beautiful, ...</td>\n",
       "      <td>Centrally located in the heart of Manhattan ju...</td>\n",
       "      <td>https://a0.muscache.com/im/pictures/f028bdf9-e...</td>\n",
       "      <td>within a day</td>\n",
       "      <td>80%</td>\n",
       "      <td>...</td>\n",
       "      <td>1</td>\n",
       "      <td>36</td>\n",
       "      <td>2018-10-01</td>\n",
       "      <td>0.33</td>\n",
       "      <td>2</td>\n",
       "      <td>345</td>\n",
       "      <td>0.101302</td>\n",
       "      <td>5th Av</td>\n",
       "      <td>0.139760</td>\n",
       "      <td>('MN01685', '5 AVENUE')</td>\n",
       "    </tr>\n",
       "    <tr>\n",
       "      <th>3</th>\n",
       "      <td>3330</td>\n",
       "      <td>https://www.airbnb.com/rooms/3330</td>\n",
       "      <td>++ Brooklyn Penthouse Guestroom ++</td>\n",
       "      <td>This is a spacious, clean, furnished master be...</td>\n",
       "      <td>Room Features: - clean, hardwood floors - 2 la...</td>\n",
       "      <td>This is a spacious, clean, furnished master be...</td>\n",
       "      <td>Location is GREAT!! Right off the L train in t...</td>\n",
       "      <td>https://a0.muscache.com/im/pictures/41842659/5...</td>\n",
       "      <td>NaN</td>\n",
       "      <td>NaN</td>\n",
       "      <td>...</td>\n",
       "      <td>5</td>\n",
       "      <td>34</td>\n",
       "      <td>2018-09-16</td>\n",
       "      <td>0.32</td>\n",
       "      <td>3</td>\n",
       "      <td>271</td>\n",
       "      <td>0.151482</td>\n",
       "      <td>Montrose Av</td>\n",
       "      <td>0.095851</td>\n",
       "      <td>('BR02884', 'MONTROSE AVENUE')</td>\n",
       "    </tr>\n",
       "    <tr>\n",
       "      <th>4</th>\n",
       "      <td>3831</td>\n",
       "      <td>https://www.airbnb.com/rooms/3831</td>\n",
       "      <td>Cozy Entire Floor of Brownstone</td>\n",
       "      <td>Urban retreat: enjoy 500 s.f. floor in 1899 br...</td>\n",
       "      <td>Greetings!      We own a double-duplex brownst...</td>\n",
       "      <td>Urban retreat: enjoy 500 s.f. floor in 1899 br...</td>\n",
       "      <td>Just the right mix of urban center and local n...</td>\n",
       "      <td>https://a0.muscache.com/im/pictures/e49999c2-9...</td>\n",
       "      <td>within an hour</td>\n",
       "      <td>100%</td>\n",
       "      <td>...</td>\n",
       "      <td>1</td>\n",
       "      <td>213</td>\n",
       "      <td>2018-09-12</td>\n",
       "      <td>4.36</td>\n",
       "      <td>1</td>\n",
       "      <td>149</td>\n",
       "      <td>0.273505</td>\n",
       "      <td>Classon Av</td>\n",
       "      <td>0.040454</td>\n",
       "      <td>('BR02441', 'GATES AVENUE')</td>\n",
       "    </tr>\n",
       "  </tbody>\n",
       "</table>\n",
       "<p>5 rows × 66 columns</p>\n",
       "</div>"
      ],
      "text/plain": [
       "   listing_id                        listing_url  \\\n",
       "0        2515  https://www.airbnb.com/rooms/2515   \n",
       "1        2539  https://www.airbnb.com/rooms/2539   \n",
       "2        2595  https://www.airbnb.com/rooms/2595   \n",
       "3        3330  https://www.airbnb.com/rooms/3330   \n",
       "4        3831  https://www.airbnb.com/rooms/3831   \n",
       "\n",
       "                               name_x  \\\n",
       "0    Stay at Chez Chic budget room #1   \n",
       "1  Clean & quiet apt home by the park   \n",
       "2               Skylit Midtown Castle   \n",
       "3  ++ Brooklyn Penthouse Guestroom ++   \n",
       "4     Cozy Entire Floor of Brownstone   \n",
       "\n",
       "                                             summary  \\\n",
       "0  Step into our artistic spacious apartment and ...   \n",
       "1           Renovated apt home in elevator building.   \n",
       "2  Find your romantic getaway to this beautiful, ...   \n",
       "3  This is a spacious, clean, furnished master be...   \n",
       "4  Urban retreat: enjoy 500 s.f. floor in 1899 br...   \n",
       "\n",
       "                                               space  \\\n",
       "0  -PLEASE BOOK DIRECTLY. NO NEED TO SEND A REQUE...   \n",
       "1  Spacious, renovated, and clean apt home, one b...   \n",
       "2  - Spacious (500+ft²), immaculate and nicely fu...   \n",
       "3  Room Features: - clean, hardwood floors - 2 la...   \n",
       "4  Greetings!      We own a double-duplex brownst...   \n",
       "\n",
       "                                         description  \\\n",
       "0  Step into our artistic spacious apartment and ...   \n",
       "1  Renovated apt home in elevator building. Spaci...   \n",
       "2  Find your romantic getaway to this beautiful, ...   \n",
       "3  This is a spacious, clean, furnished master be...   \n",
       "4  Urban retreat: enjoy 500 s.f. floor in 1899 br...   \n",
       "\n",
       "                               neighborhood_overview  \\\n",
       "0                                                NaN   \n",
       "1    Close to Prospect Park and Historic Ditmas Park   \n",
       "2  Centrally located in the heart of Manhattan ju...   \n",
       "3  Location is GREAT!! Right off the L train in t...   \n",
       "4  Just the right mix of urban center and local n...   \n",
       "\n",
       "                                         picture_url host_response_time  \\\n",
       "0  https://a0.muscache.com/im/pictures/d0489e42-4...                NaN   \n",
       "1  https://a0.muscache.com/im/pictures/3949d073-a...                NaN   \n",
       "2  https://a0.muscache.com/im/pictures/f028bdf9-e...       within a day   \n",
       "3  https://a0.muscache.com/im/pictures/41842659/5...                NaN   \n",
       "4  https://a0.muscache.com/im/pictures/e49999c2-9...     within an hour   \n",
       "\n",
       "  host_response_rate                 ...                  minimum_nights  \\\n",
       "0                NaN                 ...                               2   \n",
       "1                NaN                 ...                               1   \n",
       "2                80%                 ...                               1   \n",
       "3                NaN                 ...                               5   \n",
       "4               100%                 ...                               1   \n",
       "\n",
       "  number_of_reviews last_review reviews_per_month  \\\n",
       "0               173  2018-09-18              1.42   \n",
       "1                 8  2018-07-17              0.23   \n",
       "2                36  2018-10-01              0.33   \n",
       "3                34  2018-09-16              0.32   \n",
       "4               213  2018-09-12              4.36   \n",
       "\n",
       "  calculated_host_listings_count availability_365 dis_to_closest_subway  \\\n",
       "0                              3              310              0.102983   \n",
       "1                              8              360              0.306068   \n",
       "2                              2              345              0.101302   \n",
       "3                              3              271              0.151482   \n",
       "4                              1              149              0.273505   \n",
       "\n",
       "        closest_subway_station  dis_to_closest_bus  \\\n",
       "0  110th St-Central Park North            0.073829   \n",
       "1        Fort Hamilton Parkway            0.104210   \n",
       "2                       5th Av            0.139760   \n",
       "3                  Montrose Av            0.095851   \n",
       "4                   Classon Av            0.040454   \n",
       "\n",
       "                  closest_bus_station  \n",
       "0    ('MN0836', 'CENTRAL PARK NORTH')  \n",
       "1  ('BR02424', 'CONEY ISLAND AVENUE')  \n",
       "2             ('MN01685', '5 AVENUE')  \n",
       "3      ('BR02884', 'MONTROSE AVENUE')  \n",
       "4         ('BR02441', 'GATES AVENUE')  \n",
       "\n",
       "[5 rows x 66 columns]"
      ]
     },
     "execution_count": 23,
     "metadata": {},
     "output_type": "execute_result"
    }
   ],
   "source": [
    "df.head()"
   ]
  },
  {
   "cell_type": "code",
   "execution_count": 56,
   "metadata": {
    "scrolled": true
   },
   "outputs": [
    {
     "data": {
      "text/plain": [
       "Index(['listing_id', 'listing_url', 'name_x', 'summary', 'space',\n",
       "       'description', 'neighborhood_overview', 'picture_url',\n",
       "       'host_response_time', 'host_response_rate', 'host_acceptance_rate',\n",
       "       'host_is_superhost', 'neighbourhood_x', 'neighbourhood_cleansed',\n",
       "       'neighbourhood_group_cleansed', 'city', 'state', 'zipcode',\n",
       "       'latitude_x', 'longitude_x', 'room_type_x', 'bathrooms', 'bedrooms',\n",
       "       'beds', 'amenities', 'square_feet', 'price_x', 'weekly_price',\n",
       "       'monthly_price', 'review_scores_rating', 'review_scores_accuracy',\n",
       "       'review_scores_cleanliness', 'review_scores_checkin',\n",
       "       'review_scores_communication', 'review_scores_location',\n",
       "       'review_scores_value', 'Fear', 'Trust', 'Negative', 'Positive', 'Joy',\n",
       "       'Disgust', 'Anticipation', 'Anger', 'Sadness', 'Surprise',\n",
       "       'customer_experience', 'name_y', 'host_id', 'host_name',\n",
       "       'neighbourhood_group', 'neighbourhood_y', 'latitude_y', 'longitude_y',\n",
       "       'room_type_y', 'price_y', 'minimum_nights', 'number_of_reviews',\n",
       "       'last_review', 'reviews_per_month', 'calculated_host_listings_count',\n",
       "       'availability_365', 'dis_to_closest_subway', 'closest_subway_station',\n",
       "       'dis_to_closest_bus', 'closest_bus_station'],\n",
       "      dtype='object')"
      ]
     },
     "execution_count": 56,
     "metadata": {},
     "output_type": "execute_result"
    }
   ],
   "source": [
    "df.columns"
   ]
  },
  {
   "cell_type": "markdown",
   "metadata": {},
   "source": [
    "## Drop some duplicated columns from new mega dataset"
   ]
  },
  {
   "cell_type": "code",
   "execution_count": 24,
   "metadata": {
    "scrolled": true
   },
   "outputs": [],
   "source": [
    "df.drop([ 'name_y', 'host_id', 'host_name',\n",
    "       'neighbourhood_group','neighbourhood_y', 'latitude_y', 'longitude_y',\n",
    "       'room_type_y', 'price_y', 'minimum_nights', 'number_of_reviews',\n",
    "       'last_review', 'reviews_per_month', 'calculated_host_listings_count',\n",
    "       'availability_365'], axis = 1,inplace=True)\n",
    "df.drop(['host_response_time','host_response_rate','host_acceptance_rate'],axis=1,inplace=True)"
   ]
  },
  {
   "cell_type": "code",
   "execution_count": 27,
   "metadata": {},
   "outputs": [],
   "source": [
    "df.to_csv('final.csv')"
   ]
  },
  {
   "cell_type": "markdown",
   "metadata": {},
   "source": [
    "## Read back mega dataset with new restaurant feature and re-format price column by Regex"
   ]
  },
  {
   "cell_type": "code",
   "execution_count": 38,
   "metadata": {},
   "outputs": [
    {
     "name": "stderr",
     "output_type": "stream",
     "text": [
      "C:\\Users\\Baoyp\\Anaconda3\\envs\\py36\\lib\\site-packages\\IPython\\core\\interactiveshell.py:2785: DtypeWarning: Columns (15) have mixed types. Specify dtype option on import or set low_memory=False.\n",
      "  interactivity=interactivity, compiler=compiler, result=result)\n"
     ]
    }
   ],
   "source": [
    "df = pd.read_csv('final_aftercount restaurant.csv')\n",
    "df = df.drop('Unnamed: 0',axis=1)"
   ]
  },
  {
   "cell_type": "code",
   "execution_count": 39,
   "metadata": {},
   "outputs": [],
   "source": [
    "df = df.drop(['neighbourhood_x',],axis=1)"
   ]
  },
  {
   "cell_type": "code",
   "execution_count": 40,
   "metadata": {
    "scrolled": true
   },
   "outputs": [],
   "source": [
    "df.rename(columns = {'name_x':'name','neighbourhood_cleansed':'neighbourhood','neighbourhood_group_cleansed':'neighbourhood_group','latitude_x':'latitude', \n",
    "                     'longitude_x':'longtitude','room_type_x':'room_type','price_x':'price'},inplace=True)"
   ]
  },
  {
   "cell_type": "code",
   "execution_count": 41,
   "metadata": {},
   "outputs": [
    {
     "data": {
      "text/plain": [
       "0     $59.00\n",
       "1    $149.00\n",
       "2    $225.00\n",
       "3     $70.00\n",
       "4     $89.00\n",
       "Name: price, dtype: object"
      ]
     },
     "execution_count": 41,
     "metadata": {},
     "output_type": "execute_result"
    }
   ],
   "source": [
    "df.price.head()"
   ]
  },
  {
   "cell_type": "code",
   "execution_count": 42,
   "metadata": {
    "scrolled": true
   },
   "outputs": [],
   "source": [
    "from re import sub\n",
    "df.price = df.price.apply(lambda x: float(sub(r'[^\\d.]', '', x)))"
   ]
  },
  {
   "cell_type": "code",
   "execution_count": 43,
   "metadata": {
    "scrolled": true
   },
   "outputs": [
    {
     "data": {
      "text/plain": [
       "0     59.0\n",
       "1    149.0\n",
       "2    225.0\n",
       "3     70.0\n",
       "4     89.0\n",
       "Name: price, dtype: float64"
      ]
     },
     "execution_count": 43,
     "metadata": {},
     "output_type": "execute_result"
    }
   ],
   "source": [
    "df.price.head()"
   ]
  },
  {
   "cell_type": "code",
   "execution_count": 44,
   "metadata": {
    "scrolled": true
   },
   "outputs": [],
   "source": [
    "df = df[df.price<500]"
   ]
  },
  {
   "cell_type": "code",
   "execution_count": 50,
   "metadata": {},
   "outputs": [],
   "source": [
    "# Get rid of rows whose important features including null values\n",
    "df = df[~df['bedrooms'].isnull()]\n",
    "df = df[~df['bathrooms'].isnull()]\n",
    "df = df[~df['review_scores_cleanliness'].isnull()]\n",
    "df = df[~df['review_scores_checkin'].isnull()]\n",
    "df = df[~df['review_scores_communication'].isnull()]\n",
    "df = df[~df['customer_experience'].isnull()]\n",
    "df = df[~df['dis_to_closest_subway'].isnull()]\n",
    "df = df[~df['dis_to_closest_bus'].isnull()]\n",
    "df = df[~df['num_restaurant'].isnull()]"
   ]
  },
  {
   "cell_type": "code",
   "execution_count": 49,
   "metadata": {},
   "outputs": [],
   "source": [
    "# Dataset for visualization\n",
    "df.to_csv('database_1.csv')"
   ]
  },
  {
   "cell_type": "markdown",
   "metadata": {},
   "source": [
    "## Add num_review feature into mega dataset"
   ]
  },
  {
   "cell_type": "code",
   "execution_count": 59,
   "metadata": {},
   "outputs": [],
   "source": [
    "df2 = pd.read_csv('reviews.csv')\n",
    "#df2 = df2.drop('Unnamed: 0',axis=1)"
   ]
  },
  {
   "cell_type": "code",
   "execution_count": 60,
   "metadata": {},
   "outputs": [],
   "source": [
    "review_num = df2.groupby('listing_id').size()\n",
    "review_num=pd.DataFrame(review_num)"
   ]
  },
  {
   "cell_type": "code",
   "execution_count": 61,
   "metadata": {},
   "outputs": [],
   "source": [
    "review_num.rename(columns={0:'review_num'},inplace=True)"
   ]
  },
  {
   "cell_type": "code",
   "execution_count": 62,
   "metadata": {
    "scrolled": true
   },
   "outputs": [],
   "source": [
    "df_final=pd.merge(df,review_num, on='listing_id',how = 'left')"
   ]
  },
  {
   "cell_type": "code",
   "execution_count": 63,
   "metadata": {},
   "outputs": [],
   "source": [
    "df_final.to_csv('database_3.csv')"
   ]
  },
  {
   "cell_type": "code",
   "execution_count": 65,
   "metadata": {},
   "outputs": [
    {
     "name": "stdout",
     "output_type": "stream",
     "text": [
      "556\n",
      "1\n",
      "0    2\n",
      "dtype: int64\n"
     ]
    }
   ],
   "source": [
    "print(df_final.review_num.max())\n",
    "print(df_final.review_num.min())\n",
    "print(df_final.review_num.mode())"
   ]
  },
  {
   "cell_type": "markdown",
   "metadata": {},
   "source": [
    "## Normalize columns in dataframe"
   ]
  },
  {
   "cell_type": "code",
   "execution_count": 51,
   "metadata": {},
   "outputs": [],
   "source": [
    "df['review_scores_cleanliness']=(df['review_scores_cleanliness']-np.mean(df['review_scores_cleanliness']))/np.std(df['review_scores_cleanliness'])"
   ]
  },
  {
   "cell_type": "code",
   "execution_count": 52,
   "metadata": {},
   "outputs": [],
   "source": [
    "df['review_scores_checkin'] = (df['review_scores_checkin']-np.mean(df['review_scores_checkin']))/np.std(df['review_scores_checkin'])"
   ]
  },
  {
   "cell_type": "code",
   "execution_count": 53,
   "metadata": {},
   "outputs": [],
   "source": [
    "df['review_scores_communication'] = (df['review_scores_communication']-np.mean(df['review_scores_communication']))/np.std(df['review_scores_communication'])"
   ]
  },
  {
   "cell_type": "code",
   "execution_count": 54,
   "metadata": {},
   "outputs": [],
   "source": [
    "df['customer_experience'] = (df['customer_experience']-np.mean(df['customer_experience']))/np.std(df['customer_experience'])"
   ]
  },
  {
   "cell_type": "code",
   "execution_count": 55,
   "metadata": {},
   "outputs": [],
   "source": [
    "df['num_restaurant'] = (df['num_restaurant']-np.mean(df['num_restaurant']))/np.std(df['num_restaurant'])"
   ]
  },
  {
   "cell_type": "code",
   "execution_count": 58,
   "metadata": {},
   "outputs": [],
   "source": [
    "# Dataset for our recommendation system\n",
    "df.to_csv('database_2.csv')"
   ]
  },
  {
   "cell_type": "code",
   "execution_count": null,
   "metadata": {},
   "outputs": [],
   "source": []
  }
 ],
 "metadata": {
  "kernelspec": {
   "display_name": "Python 3",
   "language": "python",
   "name": "python3"
  },
  "language_info": {
   "codemirror_mode": {
    "name": "ipython",
    "version": 3
   },
   "file_extension": ".py",
   "mimetype": "text/x-python",
   "name": "python",
   "nbconvert_exporter": "python",
   "pygments_lexer": "ipython3",
   "version": "3.7.1"
  }
 },
 "nbformat": 4,
 "nbformat_minor": 2
}
